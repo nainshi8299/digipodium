{
 "cells": [
  {
   "cell_type": "code",
   "execution_count": 4,
   "metadata": {},
   "outputs": [],
   "source": [
    "name = \"Nainshi\"\n",
    "city = \"Banda\""
   ]
  },
  {
   "cell_type": "code",
   "execution_count": 5,
   "metadata": {},
   "outputs": [
    {
     "name": "stdout",
     "output_type": "stream",
     "text": [
      "Information about me\n",
      "Nainshi\n",
      "Banda\n"
     ]
    }
   ],
   "source": [
    "print(\"Information about me\")\n",
    "print(name)\n",
    "print(city)"
   ]
  },
  {
   "cell_type": "code",
   "execution_count": 6,
   "metadata": {},
   "outputs": [
    {
     "name": "stdout",
     "output_type": "stream",
     "text": [
      "Information about me: Nainshi Banda\n"
     ]
    }
   ],
   "source": [
    "print('Information about me:', name, city)"
   ]
  },
  {
   "cell_type": "code",
   "execution_count": 7,
   "metadata": {},
   "outputs": [
    {
     "name": "stdout",
     "output_type": "stream",
     "text": [
      "I am Nainshi and i live in Banda\n"
     ]
    }
   ],
   "source": [
    "print('I am',name,'and i live in', city)"
   ]
  },
  {
   "cell_type": "code",
   "execution_count": 10,
   "metadata": {},
   "outputs": [
    {
     "name": "stdout",
     "output_type": "stream",
     "text": [
      "I am Nainshi and i live in Banda \n"
     ]
    }
   ],
   "source": [
    "print(f\"I am {name} and i live in {city} \")"
   ]
  },
  {
   "cell_type": "code",
   "execution_count": 11,
   "metadata": {},
   "outputs": [],
   "source": [
    "n3 = 'Amam'\n",
    "c1 = 'Lucknow'\n",
    "n2,c2 = 'Anjad','Lucknow'"
   ]
  },
  {
   "cell_type": "code",
   "execution_count": 12,
   "metadata": {},
   "outputs": [
    {
     "name": "stdout",
     "output_type": "stream",
     "text": [
      "     Amam       Lucknow\n",
      "     Anjad      Lucknow\n"
     ]
    }
   ],
   "source": [
    "#olt +shift + down for duplicating the line\n",
    "print(f'{n3:^15} {c1}')\n",
    "print(f'{n2:^15} {c2}')      "
   ]
  },
  {
   "cell_type": "code",
   "execution_count": 13,
   "metadata": {},
   "outputs": [
    {
     "name": "stdout",
     "output_type": "stream",
     "text": [
      "Amam Anjad\n"
     ]
    }
   ],
   "source": [
    "print(n3,n2,)"
   ]
  },
  {
   "cell_type": "code",
   "execution_count": 14,
   "metadata": {},
   "outputs": [
    {
     "name": "stdout",
     "output_type": "stream",
     "text": [
      "Amam\tAnjad\n"
     ]
    }
   ],
   "source": [
    "print(n3,n2, sep='\\t')"
   ]
  },
  {
   "cell_type": "code",
   "execution_count": 15,
   "metadata": {},
   "outputs": [
    {
     "name": "stdout",
     "output_type": "stream",
     "text": [
      "Amam\n",
      "Anjad\n"
     ]
    }
   ],
   "source": [
    "print(n3,n2, sep='\\n')"
   ]
  },
  {
   "cell_type": "code",
   "execution_count": 16,
   "metadata": {},
   "outputs": [
    {
     "name": "stdout",
     "output_type": "stream",
     "text": [
      "Amam,Anjad\n"
     ]
    }
   ],
   "source": [
    "print(n3,n2, sep=',')"
   ]
  },
  {
   "cell_type": "markdown",
   "metadata": {},
   "source": [
    "# formated string\n",
    "these are special string in python, where we prepend f before the opning quote, making the string an f -string.we can the embed python expression directly inside the string . the expression are replace with their values.\n"
   ]
  },
  {
   "cell_type": "code",
   "execution_count": 1,
   "metadata": {},
   "outputs": [
    {
     "name": "stdout",
     "output_type": "stream",
     "text": [
      "banda\n"
     ]
    }
   ],
   "source": [
    "city = input()\n",
    "print(city)"
   ]
  },
  {
   "cell_type": "code",
   "execution_count": 3,
   "metadata": {},
   "outputs": [
    {
     "name": "stdout",
     "output_type": "stream",
     "text": [
      "kanpur in march\n"
     ]
    }
   ],
   "source": [
    "city = input(\"please enter the city you want to go\")\n",
    "month = input(\"enter the month name\")\n",
    "print(f'{city} in {month}')"
   ]
  },
  {
   "cell_type": "code",
   "execution_count": null,
   "metadata": {},
   "outputs": [],
   "source": []
  },
  {
   "cell_type": "markdown",
   "metadata": {},
   "source": [
    "conditions"
   ]
  },
  {
   "cell_type": "markdown",
   "metadata": {},
   "source": []
  }
 ],
 "metadata": {
  "kernelspec": {
   "display_name": "base",
   "language": "python",
   "name": "python3"
  },
  "language_info": {
   "codemirror_mode": {
    "name": "ipython",
    "version": 3
   },
   "file_extension": ".py",
   "mimetype": "text/x-python",
   "name": "python",
   "nbconvert_exporter": "python",
   "pygments_lexer": "ipython3",
   "version": "3.11.4"
  },
  "orig_nbformat": 4
 },
 "nbformat": 4,
 "nbformat_minor": 2
}
