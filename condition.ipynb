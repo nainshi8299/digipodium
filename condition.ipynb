{
 "cells": [
  {
   "cell_type": "markdown",
   "metadata": {},
   "source": [
    "Conditions"
   ]
  },
  {
   "cell_type": "markdown",
   "metadata": {},
   "source": [
    "indentation(pep8)"
   ]
  },
  {
   "cell_type": "markdown",
   "metadata": {},
   "source": [
    "indentation is the way to tell the python that block od code\n",
    "indentation means 4 spaces"
   ]
  },
  {
   "cell_type": "code",
   "execution_count": 2,
   "metadata": {},
   "outputs": [
    {
     "name": "stdout",
     "output_type": "stream",
     "text": [
      "x is greater than x-3\n"
     ]
    }
   ],
   "source": [
    "x=10\n",
    "if x>3:\n",
    "    print('x is greater than x-3')"
   ]
  },
  {
   "cell_type": "code",
   "execution_count": 3,
   "metadata": {},
   "outputs": [
    {
     "name": "stdout",
     "output_type": "stream",
     "text": [
      "x is equal to 5\n",
      "x is greater than 10\n"
     ]
    }
   ],
   "source": [
    "if x== 5:\n",
    "    print('x is equal to 5')\n",
    "if x== 10:\n",
    "    print('x is equal to 5')\n",
    "if x>=10:\n",
    "    print('x is greater than 10')        "
   ]
  },
  {
   "cell_type": "code",
   "execution_count": 4,
   "metadata": {},
   "outputs": [],
   "source": [
    "if x<x-3:\n",
    "    print('x is less than x-3')"
   ]
  },
  {
   "cell_type": "code",
   "execution_count": 5,
   "metadata": {},
   "outputs": [
    {
     "name": "stdout",
     "output_type": "stream",
     "text": [
      "username is empty\n"
     ]
    }
   ],
   "source": [
    "username = input(\"enyer the username\")\n",
    "passward = input(\"enter the passward\")\n",
    "if username:\n",
    "    if passward:\n",
    "        if username== 'Alex' and passward == 'Alexa':\n",
    "            print(\"login successful\")\n",
    "        else:\n",
    "            print(\"login failed\")\n",
    "        \n",
    "    else:\n",
    "        print(\"passward is empty\")\n",
    "else:\n",
    "    print(\"username is empty\")\n",
    "        "
   ]
  },
  {
   "cell_type": "code",
   "execution_count": 3,
   "metadata": {},
   "outputs": [
    {
     "name": "stdout",
     "output_type": "stream",
     "text": [
      "sunday is my offday\n"
     ]
    }
   ],
   "source": [
    "offday = input(\"enter the offday:\")\n",
    "match(offday):\n",
    "    case'sunday':\n",
    "        print(\"sunday is my offday\")\n",
    "    case'wednesday':\n",
    "        print(\"wednesday is my offaday\")\n",
    "    case' ':\n",
    "        print(\" i have no offday\")      \n"
   ]
  },
  {
   "cell_type": "code",
   "execution_count": 5,
   "metadata": {},
   "outputs": [
    {
     "name": "stdout",
     "output_type": "stream",
     "text": [
      "x is greater than 6\n"
     ]
    }
   ],
   "source": [
    "x=10\n",
    "if x>6:\n",
    "    print(\"x is greater than 6\")"
   ]
  },
  {
   "cell_type": "code",
   "execution_count": null,
   "metadata": {},
   "outputs": [],
   "source": []
  }
 ],
 "metadata": {
  "kernelspec": {
   "display_name": "base",
   "language": "python",
   "name": "python3"
  },
  "language_info": {
   "codemirror_mode": {
    "name": "ipython",
    "version": 3
   },
   "file_extension": ".py",
   "mimetype": "text/x-python",
   "name": "python",
   "nbconvert_exporter": "python",
   "pygments_lexer": "ipython3",
   "version": "3.11.4"
  },
  "orig_nbformat": 4
 },
 "nbformat": 4,
 "nbformat_minor": 2
}
