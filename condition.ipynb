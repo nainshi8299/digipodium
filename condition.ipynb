{
 "cells": [
  {
   "cell_type": "markdown",
   "metadata": {},
   "source": [
    "Conditions"
   ]
  },
  {
   "cell_type": "markdown",
   "metadata": {},
   "source": [
    "indentation(pep8)"
   ]
  },
  {
   "cell_type": "markdown",
   "metadata": {},
   "source": [
    "indentation is the way to tell the python that block od code\n",
    "indentation means 4 spaces"
   ]
  },
  {
   "cell_type": "code",
   "execution_count": 2,
   "metadata": {},
   "outputs": [
    {
     "name": "stdout",
     "output_type": "stream",
     "text": [
      "x is greater than x-3\n"
     ]
    }
   ],
   "source": [
    "x=10\n",
    "if x>3:\n",
    "    print('x is greater than x-3')"
   ]
  },
  {
   "cell_type": "code",
   "execution_count": 3,
   "metadata": {},
   "outputs": [
    {
     "name": "stdout",
     "output_type": "stream",
     "text": [
      "x is equal to 5\n",
      "x is greater than 10\n"
     ]
    }
   ],
   "source": [
    "if x== 5:\n",
    "    print('x is equal to 5')\n",
    "if x== 10:\n",
    "    print('x is equal to 5')\n",
    "if x>=10:\n",
    "    print('x is greater than 10')        "
   ]
  },
  {
   "cell_type": "code",
   "execution_count": 1,
   "metadata": {},
   "outputs": [
    {
     "name": "stdout",
     "output_type": "stream",
     "text": [
      " lo is in x\n"
     ]
    }
   ],
   "source": [
    "x ='hello'\n",
    "if 'lo' in x:\n",
    "    print(' lo is in x')\n",
    "else:\n",
    "    print('lo was not found')    "
   ]
  },
  {
   "cell_type": "code",
   "execution_count": 4,
   "metadata": {},
   "outputs": [],
   "source": [
    "if x<x-3:\n",
    "    print('x is less than x-3')"
   ]
  },
  {
   "cell_type": "code",
   "execution_count": 5,
   "metadata": {},
   "outputs": [
    {
     "name": "stdout",
     "output_type": "stream",
     "text": [
      "username is empty\n"
     ]
    }
   ],
   "source": [
    "username = input(\"enyer the username\")\n",
    "passward = input(\"enter the passward\")\n",
    "if username:\n",
    "    if passward:\n",
    "        if username== 'Alex' and passward == 'Alexa':\n",
    "            print(\"👍login successful\")\n",
    "        else:\n",
    "            print(\"login failed\")\n",
    "        \n",
    "    else:\n",
    "        print(\"passward is empty\")\n",
    "else:\n",
    "    print(\"username is empty\")\n",
    "        "
   ]
  },
  {
   "cell_type": "code",
   "execution_count": 3,
   "metadata": {},
   "outputs": [
    {
     "name": "stdout",
     "output_type": "stream",
     "text": [
      "sunday is my offday\n"
     ]
    }
   ],
   "source": [
    "offday = input(\"enter the offday:\")\n",
    "match(offday):\n",
    "    case'sunday':\n",
    "        print(\"sunday is my offday\")\n",
    "    case'wednesday':\n",
    "        print(\"wednesday is my offaday\")\n",
    "    case' ':\n",
    "        print(\" i have no offday\")      \n"
   ]
  },
  {
   "cell_type": "code",
   "execution_count": 14,
   "metadata": {},
   "outputs": [
    {
     "name": "stdout",
     "output_type": "stream",
     "text": [
      "Have your lunch or die\n"
     ]
    }
   ],
   "source": [
    "had_lunch = input(\"did you have lunch? (yes\\no):\")\n",
    "had_medicines =input(\" did you take your medicines? (yes\\no):\")\n",
    "if had_lunch == 'Yes':\n",
    "    if had_medicines == 'Yes':\n",
    "        print('very good👼')\n",
    "    else:\n",
    "        print('take your medicines💊')\n",
    "else:\n",
    "    print('Have your lunch or die')        "
   ]
  },
  {
   "cell_type": "code",
   "execution_count": 3,
   "metadata": {},
   "outputs": [
    {
     "name": "stdout",
     "output_type": "stream",
     "text": [
      "What kind of ice cream flavour would you like?\n",
      "1. chocolate\n",
      "2. vanilla\n",
      "3. strawberry\n",
      "4. butterscotch\n",
      "5. fruit n nut\n",
      "you have selectedvanillaflavour\n",
      "you have to pay30 rupees\n"
     ]
    },
    {
     "data": {
      "text/plain": [
       "<function print(*args, sep=' ', end='\\n', file=None, flush=False)>"
      ]
     },
     "execution_count": 3,
     "metadata": {},
     "output_type": "execute_result"
    }
   ],
   "source": [
    "print('What kind of ice cream flavour would you like?')\n",
    "print(f'1. chocolate')\n",
    "print(f'2. vanilla')\n",
    "print(f'3. strawberry')\n",
    "print(f'4. butterscotch')\n",
    "print(f'5. fruit n nut')\n",
    "choice = input('enter your choice:')\n",
    "match choice:\n",
    "    case'chocolate':\n",
    "        cost =10\n",
    "    case 'vanilla':\n",
    "        cost =30\n",
    "    case 'strawberry':\n",
    "        cost =25\n",
    "    case 'fruit n nut':\n",
    "        cost =40\n",
    "    case _:\n",
    "        cost =0\n",
    "print(f'you have selected{choice}flavour')\n",
    "print(f'you have to pay{cost} rupees')\n",
    "        \n",
    "\n",
    "\n",
    "\n",
    "\n",
    "\n",
    "\n",
    "\n",
    "\n",
    "\n",
    "\n",
    "\n",
    "\n",
    "\n",
    "\n",
    "\n",
    "\n",
    "\n",
    "\n",
    "\n",
    "\n",
    "\n",
    "\n",
    "\n",
    "\n",
    "print"
   ]
  },
  {
   "cell_type": "code",
   "execution_count": 4,
   "metadata": {},
   "outputs": [
    {
     "name": "stdout",
     "output_type": "stream",
     "text": [
      "x is greater than 6\n"
     ]
    }
   ],
   "source": [
    "x=10\n",
    "if x>6:\n",
    "    print(\"x is greater than 6\")"
   ]
  },
  {
   "cell_type": "code",
   "execution_count": 8,
   "metadata": {},
   "outputs": [
    {
     "name": "stdout",
     "output_type": "stream",
     "text": [
      " you have to pay 2080.0 rupees\n"
     ]
    }
   ],
   "source": [
    "weight = float( input('how much do you want(kg)'))\n",
    "if weight ==1: price =110\n",
    "elif weight >=2 and weight<= 5: price =100 * weight\n",
    "elif weight >=6: price =80* weight\n",
    "print(f' you have to pay {price} rupees')\n"
   ]
  },
  {
   "cell_type": "code",
   "execution_count": 9,
   "metadata": {},
   "outputs": [
    {
     "name": "stdout",
     "output_type": "stream",
     "text": [
      "x is odd\n"
     ]
    }
   ],
   "source": [
    "x = 1323\n",
    "print('x is even') if x % 2 ==0 else print('x is odd')"
   ]
  },
  {
   "cell_type": "code",
   "execution_count": null,
   "metadata": {},
   "outputs": [],
   "source": []
  }
 ],
 "metadata": {
  "kernelspec": {
   "display_name": "base",
   "language": "python",
   "name": "python3"
  },
  "language_info": {
   "codemirror_mode": {
    "name": "ipython",
    "version": 3
   },
   "file_extension": ".py",
   "mimetype": "text/x-python",
   "name": "python",
   "nbconvert_exporter": "python",
   "pygments_lexer": "ipython3",
   "version": "3.11.4"
  },
  "orig_nbformat": 4
 },
 "nbformat": 4,
 "nbformat_minor": 2
}
