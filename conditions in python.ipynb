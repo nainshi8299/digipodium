{
 "cells": [
  {
   "cell_type": "code",
   "execution_count": 1,
   "metadata": {},
   "outputs": [
    {
     "name": "stdout",
     "output_type": "stream",
     "text": [
      "red\n",
      "green\n",
      "yellow\n",
      "blue\n",
      "red       3 chars\n",
      "green     5 chars\n",
      "yellow    6 chars\n",
      "blue      4 chars\n"
     ]
    }
   ],
   "source": [
    "colors=['red','green','yellow','blue']\n",
    "for color in colors:\n",
    "    print(color)\n",
    "\n",
    "\n",
    "\n",
    "for color in colors:\n",
    "\n",
    "    size =len(color) \n",
    "    print(f'{color:10}{size} chars')"
   ]
  },
  {
   "cell_type": "code",
   "execution_count": null,
   "metadata": {},
   "outputs": [],
   "source": []
  }
 ],
 "metadata": {
  "kernelspec": {
   "display_name": "base",
   "language": "python",
   "name": "python3"
  },
  "language_info": {
   "codemirror_mode": {
    "name": "ipython",
    "version": 3
   },
   "file_extension": ".py",
   "mimetype": "text/x-python",
   "name": "python",
   "nbconvert_exporter": "python",
   "pygments_lexer": "ipython3",
   "version": "3.11.4"
  },
  "orig_nbformat": 4
 },
 "nbformat": 4,
 "nbformat_minor": 2
}
