{
 "cells": [
  {
   "cell_type": "markdown",
   "metadata": {},
   "source": [
    " Asignment operator\n",
    " logical operator\n",
    " comparsion operator\n",
    " membership operator\n",
    " arithmatic operator\n",
    " bitwise operator\n",
    " "
   ]
  }
 ],
 "metadata": {
  "language_info": {
   "name": "python"
  },
  "orig_nbformat": 4
 },
 "nbformat": 4,
 "nbformat_minor": 2
}
