{
 "cells": [
  {
   "cell_type": "markdown",
   "metadata": {},
   "source": [
    "what to understand\n",
    "- class\n",
    "- constructor('_init_)\n",
    "- instance methods\n",
    "- object(instance)\n",
    "- inheritance\n",
    "     - multiple inheritance\n",
    "     - overriding method\n",
    "- operator overloading\n"
   ]
  },
  {
   "cell_type": "markdown",
   "metadata": {},
   "source": []
  },
  {
   "cell_type": "code",
   "execution_count": null,
   "metadata": {},
   "outputs": [],
   "source": [
    "class one:\n",
    "    pass"
   ]
  },
  {
   "cell_type": "code",
   "execution_count": null,
   "metadata": {},
   "outputs": [],
   "source": [
    "class student:\n",
    "    rollno=0\n",
    "    klass=0\n",
    "    name=\"\"\n",
    "\n",
    "    def display(self):\n",
    "        print(\"i am student\")    \n"
   ]
  },
  {
   "cell_type": "code",
   "execution_count": null,
   "metadata": {},
   "outputs": [],
   "source": [
    "#help(student)"
   ]
  },
  {
   "cell_type": "code",
   "execution_count": null,
   "metadata": {},
   "outputs": [],
   "source": [
    "s1= student()\n",
    "s1.display()\n",
    "s1.name=\"ranu\"\n",
    "s1.klass=6\n",
    "s1.rollno=4770\n",
    "\n",
    "s2=student()\n",
    "s2.name=\"rajju\"\n",
    "s2.klass=8\n",
    "s2.rollno=1245\n"
   ]
  },
  {
   "cell_type": "code",
   "execution_count": null,
   "metadata": {},
   "outputs": [],
   "source": [
    "#__method__ is called magic method(durder method)\n",
    "class bottle:\n",
    "    def __init__(self,material,content,capacity):\n",
    "        self.material=material\n",
    "        self.content=content\n",
    "        self.capacity=capacity\n",
    "\n",
    "    def check(self):\n",
    "        print(f'{self.material} bottle with {self.capacity}ml of {self.content}')\n",
    "            "
   ]
  },
  {
   "cell_type": "code",
   "execution_count": null,
   "metadata": {},
   "outputs": [],
   "source": [
    "b1=bottle(\"plastic\",\"water\",1000)\n",
    "b2=bottle(\"glass\",\"water\",500)\n",
    "b3=bottle(\"streel\",'water',2000)\n",
    "b4=bottle('glass', 'red wine',1000)\n",
    "b4=bottle('glass', 'beer',1000)"
   ]
  },
  {
   "cell_type": "code",
   "execution_count": null,
   "metadata": {},
   "outputs": [],
   "source": [
    "print(b1.check())"
   ]
  },
  {
   "cell_type": "code",
   "execution_count": 18,
   "metadata": {},
   "outputs": [
    {
     "name": "stdout",
     "output_type": "stream",
     "text": [
      "plastic water 1000\n"
     ]
    }
   ],
   "source": [
    "print(b1.material,b1.content,b1.capacity)"
   ]
  },
  {
   "cell_type": "code",
   "execution_count": null,
   "metadata": {},
   "outputs": [],
   "source": []
  }
 ],
 "metadata": {
  "kernelspec": {
   "display_name": "base",
   "language": "python",
   "name": "python3"
  },
  "language_info": {
   "codemirror_mode": {
    "name": "ipython",
    "version": 3
   },
   "file_extension": ".py",
   "mimetype": "text/x-python",
   "name": "python",
   "nbconvert_exporter": "python",
   "pygments_lexer": "ipython3",
   "version": "3.11.4"
  }
 },
 "nbformat": 4,
 "nbformat_minor": 2
}
