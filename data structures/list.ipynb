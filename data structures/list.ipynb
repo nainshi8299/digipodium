{
 "cells": [
  {
   "cell_type": "markdown",
   "metadata": {},
   "source": [
    "- create\n",
    "- indexing and slicing\n",
    "- methods\n",
    "- basic operation"
   ]
  },
  {
   "cell_type": "markdown",
   "metadata": {},
   "source": []
  },
  {
   "cell_type": "code",
   "execution_count": 4,
   "metadata": {},
   "outputs": [],
   "source": [
    "x=[]\n",
    "a=[1,2,4,6]\n",
    "b=['alex','alexa','alexis']\n",
    "e=['alex',12,'alexa',20,'alexis',38,]\n",
    "c=[[1,2,3,4],[1,2],[1,3,4,4]]#nested list\n",
    "d=[[1,2,3],[2,3,4],[1,2,3]]#nested list (equal length)\n"
   ]
  },
  {
   "cell_type": "code",
   "execution_count": 5,
   "metadata": {},
   "outputs": [
    {
     "name": "stdout",
     "output_type": "stream",
     "text": [
      "[1, 1, 1, 1, 1, 1, 1, 1, 1, 1]\n",
      "[1, 2, 3, 1, 2, 3, 1, 2, 3]\n"
     ]
    }
   ],
   "source": [
    "w=[1]*10#duplication\n",
    "print(w)\n",
    "\n",
    "w2=[1,2,3]*3\n",
    "print(w2)\n",
    "\n"
   ]
  },
  {
   "cell_type": "code",
   "execution_count": 6,
   "metadata": {},
   "outputs": [
    {
     "name": "stdout",
     "output_type": "stream",
     "text": [
      "[1, 2, 3, 4, 5, 6]\n"
     ]
    }
   ],
   "source": [
    "a=[1,2,3]\n",
    "b=[4,5,6]\n",
    "c=a+b# list contenation\n",
    "print(c)"
   ]
  },
  {
   "cell_type": "code",
   "execution_count": 7,
   "metadata": {},
   "outputs": [
    {
     "name": "stdout",
     "output_type": "stream",
     "text": [
      "[[1, 2, 3], [4, 5, 6]]\n"
     ]
    }
   ],
   "source": [
    "d=[a,b]# nested list\n",
    "print(d)"
   ]
  },
  {
   "cell_type": "code",
   "execution_count": 8,
   "metadata": {},
   "outputs": [
    {
     "name": "stdout",
     "output_type": "stream",
     "text": [
      "[1, 2, 3]\n",
      "[6, 7, 8, 9]\n",
      "[4, 5, 6]\n",
      "[1, 2, 3, 4, 5, 6, 7, 8, 9]\n",
      "[1, 2, 3, 4, 5, 6, 7, 8]\n",
      "[1, 3, 5, 7, 9]\n",
      "[2, 4, 6, 8]\n"
     ]
    }
   ],
   "source": [
    "x=[1,2,3,4,5,6,7,8,9]\n",
    "print(x[:3])\n",
    "print(x[-4:])#last 4 items\n",
    "print(x[3:-3])\n",
    "print(x)\n",
    "print(x[:-1])\n",
    "print(x[::2])#all elements with even index\n",
    "print(x[1::2])#all element with odd index"
   ]
  },
  {
   "cell_type": "code",
   "execution_count": 9,
   "metadata": {},
   "outputs": [
    {
     "name": "stdout",
     "output_type": "stream",
     "text": [
      "1\n",
      "9\n"
     ]
    }
   ],
   "source": [
    "print(x[0])\n",
    "print(x[-1])#last element\n",
    "#print(x[12])#error"
   ]
  },
  {
   "cell_type": "code",
   "execution_count": 10,
   "metadata": {},
   "outputs": [
    {
     "data": {
      "text/plain": [
       "['one', 'for', 'all']"
      ]
     },
     "execution_count": 10,
     "metadata": {},
     "output_type": "execute_result"
    }
   ],
   "source": [
    "\"one for all\".split()#split string into list"
   ]
  },
  {
   "cell_type": "code",
   "execution_count": 11,
   "metadata": {},
   "outputs": [
    {
     "name": "stdout",
     "output_type": "stream",
     "text": [
      "1 2 3 4 5 6 7 8 9 "
     ]
    }
   ],
   "source": [
    "for i in x:\n",
    "    print(i,end=' ')"
   ]
  },
  {
   "cell_type": "markdown",
   "metadata": {},
   "source": [
    "methods\n",
    "- add\n",
    "    - append\n",
    "    - extend\n",
    "    - insert\n",
    "- remove\n",
    "    - remove\n",
    "    - pop\n",
    "    - clear\n",
    "- helper\n",
    "     - index\n",
    "     - count\n",
    "     - sort\n",
    "     - reverse\n",
    "     - copy        "
   ]
  },
  {
   "cell_type": "code",
   "execution_count": 28,
   "metadata": {},
   "outputs": [
    {
     "name": "stdout",
     "output_type": "stream",
     "text": [
      "['the final empire', 'the hero of ages', ' let us python']\n"
     ]
    }
   ],
   "source": [
    "books=[]\n",
    "books.append(\"the final empire\")\n",
    "books.append(\"the hero of ages\")\n",
    "books.append(\" let us python\")\n",
    "print(books)"
   ]
  },
  {
   "cell_type": "code",
   "execution_count": 13,
   "metadata": {},
   "outputs": [
    {
     "name": "stdout",
     "output_type": "stream",
     "text": [
      "['the final empire', 'the way of kinds', 'word of radiance', 'the hero of ages', ' let us python']\n"
     ]
    }
   ],
   "source": [
    "books.insert(1,'the way of kinds')\n",
    "books.insert(2,'word of radiance')\n",
    "print(books)"
   ]
  },
  {
   "cell_type": "code",
   "execution_count": 14,
   "metadata": {},
   "outputs": [
    {
     "name": "stdout",
     "output_type": "stream",
     "text": [
      "['twilight saga: new moontwilight saga: eclipsethe wheel of time']\n"
     ]
    }
   ],
   "source": [
    "crappy_books=[\n",
    "    'twilight saga: new moon'\n",
    "    'twilight saga: eclipse'\n",
    "    'the wheel of time'\n",
    "]\n",
    "print(crappy_books)"
   ]
  },
  {
   "cell_type": "code",
   "execution_count": 15,
   "metadata": {},
   "outputs": [
    {
     "name": "stdout",
     "output_type": "stream",
     "text": [
      "['the final empire', 'the way of kinds', 'word of radiance', 'the hero of ages', ' let us python', 'twilight saga: new moontwilight saga: eclipsethe wheel of time']\n"
     ]
    }
   ],
   "source": [
    "#extend function  \n",
    "books.extend(crappy_books)\n",
    "print(books)"
   ]
  },
  {
   "cell_type": "code",
   "execution_count": 16,
   "metadata": {},
   "outputs": [
    {
     "name": "stdout",
     "output_type": "stream",
     "text": [
      "[1, 2, 3, 4, 5, 6, 7]\n"
     ]
    }
   ],
   "source": [
    "nums=[1,2,3]\n",
    "more_nums=[4,5,6,7]\n",
    "nums.extend(more_nums)\n",
    "print(nums)"
   ]
  },
  {
   "cell_type": "code",
   "execution_count": 17,
   "metadata": {},
   "outputs": [
    {
     "name": "stdout",
     "output_type": "stream",
     "text": [
      "[[1, 2, 3, 4, 5, 6, 7], [1, 2, 3, 4, 5, 6, 7], [1, 2, 3, 4, 5, 6, 7]]\n"
     ]
    }
   ],
   "source": [
    "num_matrix=[nums,nums,nums]\n",
    "print(num_matrix)"
   ]
  },
  {
   "cell_type": "code",
   "execution_count": 18,
   "metadata": {},
   "outputs": [
    {
     "name": "stdout",
     "output_type": "stream",
     "text": [
      "[1, 2, 3, 4, 5, 6, 7, 4, 5, 6, 7]\n"
     ]
    }
   ],
   "source": [
    "all_num=nums + more_nums\n",
    "print(all_num)"
   ]
  },
  {
   "cell_type": "code",
   "execution_count": 23,
   "metadata": {},
   "outputs": [
    {
     "name": "stdout",
     "output_type": "stream",
     "text": [
      "['e r t', 'fldnfr', 'vdkjvkjfd', '8', 'dff']\n"
     ]
    }
   ],
   "source": [
    "a=[]\n",
    "\n",
    "for i in range(5):\n",
    "   x=input(\"enter the number\")\n",
    "\n",
    "   a.append(x)\n",
    "print(a)"
   ]
  },
  {
   "cell_type": "code",
   "execution_count": 24,
   "metadata": {},
   "outputs": [
    {
     "name": "stdout",
     "output_type": "stream",
     "text": [
      "[1, 2, 3, 4, 'c', 'b', 'j', 'k', 'l']\n"
     ]
    }
   ],
   "source": [
    "a=[]\n",
    "b=[1,2,3,4]\n",
    "#d=[7,8,9,19]\n",
    "for i in range(5):\n",
    "    x=input(\"enter the item\")\n",
    "    a.append(x)\n",
    "    c=b+a\n",
    "print(c)    \n",
    "    "
   ]
  },
  {
   "cell_type": "code",
   "execution_count": 27,
   "metadata": {},
   "outputs": [],
   "source": [
    "books.remove (\"the final empire\")\n",
    "\n"
   ]
  },
  {
   "cell_type": "code",
   "execution_count": 30,
   "metadata": {},
   "outputs": [],
   "source": [
    "def safe_remove(val_to_remove):\n",
    "    if val_to_remove in books:\n",
    "        books.remove(val_to_remove)\n",
    "        print(f'👍{val_to_remove} remove from list')\n",
    "    else:\n",
    "        print(f'{val_to_remove} not found')\n",
    "        "
   ]
  },
  {
   "cell_type": "code",
   "execution_count": 35,
   "metadata": {},
   "outputs": [
    {
     "name": "stdout",
     "output_type": "stream",
     "text": [
      "let us python not found\n"
     ]
    }
   ],
   "source": [
    "safe_remove('let us python')"
   ]
  },
  {
   "cell_type": "code",
   "execution_count": 32,
   "metadata": {},
   "outputs": [
    {
     "name": "stdout",
     "output_type": "stream",
     "text": [
      "the hero of ages\n",
      "['the final empire']\n"
     ]
    }
   ],
   "source": [
    "output=books.pop(1)#remove last elment\n",
    "print(output)\n",
    "print(books)"
   ]
  },
  {
   "cell_type": "code",
   "execution_count": null,
   "metadata": {},
   "outputs": [],
   "source": [
    "crappy_books.clear()\n",
    "print(books)"
   ]
  },
  {
   "cell_type": "code",
   "execution_count": null,
   "metadata": {},
   "outputs": [],
   "source": []
  },
  {
   "cell_type": "code",
   "execution_count": null,
   "metadata": {},
   "outputs": [],
   "source": []
  }
 ],
 "metadata": {
  "kernelspec": {
   "display_name": "base",
   "language": "python",
   "name": "python3"
  },
  "language_info": {
   "codemirror_mode": {
    "name": "ipython",
    "version": 3
   },
   "file_extension": ".py",
   "mimetype": "text/x-python",
   "name": "python",
   "nbconvert_exporter": "python",
   "pygments_lexer": "ipython3",
   "version": "3.11.4"
  },
  "orig_nbformat": 4
 },
 "nbformat": 4,
 "nbformat_minor": 2
}
