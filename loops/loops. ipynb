colors=['red','green','yellow','blue']
for color in colors:
    print(color)



for color in colors:

    size =len(color) 
    print(f'{color:10}{size} chars')