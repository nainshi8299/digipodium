{
 "cells": [
  {
   "cell_type": "markdown",
   "metadata": {},
   "source": [
    "#4 type of function.\n",
    "- 1 nonparameterized functions."
   ]
  },
  {
   "cell_type": "code",
   "execution_count": 1,
   "metadata": {},
   "outputs": [],
   "source": [
    "def message():\n",
    "    print(\"good afternoon\")"
   ]
  },
  {
   "cell_type": "code",
   "execution_count": 3,
   "metadata": {},
   "outputs": [
    {
     "name": "stdout",
     "output_type": "stream",
     "text": [
      "good afternoon\n"
     ]
    }
   ],
   "source": [
    "#call (use)\n",
    "message()"
   ]
  },
  {
   "cell_type": "code",
   "execution_count": 5,
   "metadata": {},
   "outputs": [],
   "source": [
    "def si():\n",
    "    p=int(input(\"enter the principle amount:\"))\n",
    "    r=float(input(\"enter rate of interest:\"))\n",
    "    t=int(input(\"enter time in years:\"))\n",
    "    si=p*r*t/100\n",
    "    print(f'simple interest is {si}')\n",
    "\n",
    "              "
   ]
  },
  {
   "cell_type": "code",
   "execution_count": null,
   "metadata": {},
   "outputs": [],
   "source": []
  },
  {
   "cell_type": "code",
   "execution_count": null,
   "metadata": {},
   "outputs": [],
   "source": []
  },
  {
   "cell_type": "markdown",
   "metadata": {},
   "source": [
    "#paramerterized function"
   ]
  },
  {
   "cell_type": "code",
   "execution_count": 9,
   "metadata": {},
   "outputs": [],
   "source": [
    "def hypotenuse(p,b):\n",
    "    h=(p**2+b**2)**.5\n",
    "    print(f'hypotenuse {h}')"
   ]
  },
  {
   "cell_type": "code",
   "execution_count": 10,
   "metadata": {},
   "outputs": [
    {
     "name": "stdout",
     "output_type": "stream",
     "text": [
      "hypotenuse 5.0\n"
     ]
    }
   ],
   "source": [
    "hypotenuse(3,4)"
   ]
  },
  {
   "cell_type": "code",
   "execution_count": 33,
   "metadata": {},
   "outputs": [],
   "source": [
    "#hypotenuse(2,3,6)"
   ]
  },
  {
   "cell_type": "code",
   "execution_count": 28,
   "metadata": {},
   "outputs": [],
   "source": [
    "def hypotenuse(p:int,b:int):\n",
    "\n",
    "    '''\n",
    "\n",
    "    This function take perpendicular and base to calculate hypotenuse.\n",
    "    '''\n",
    "    h=(p**2+b**2)**.5\n",
    "    print(f'hyp:{h}')\n",
    "\n"
   ]
  },
  {
   "cell_type": "code",
   "execution_count": 31,
   "metadata": {},
   "outputs": [
    {
     "name": "stdout",
     "output_type": "stream",
     "text": [
      "hyp:6.324555320336759\n"
     ]
    }
   ],
   "source": [
    "hypotenuse(2,6)"
   ]
  },
  {
   "cell_type": "markdown",
   "metadata": {},
   "source": [
    "#default parameters\n",
    "- always start giving defaults from the right side(end)\n",
    "- default values can be of any datatypes "
   ]
  },
  {
   "cell_type": "code",
   "execution_count": 13,
   "metadata": {},
   "outputs": [],
   "source": [
    "def summer(a,b,c=0,d=0):\n",
    "    print(a+b+c+d)\n",
    "    "
   ]
  },
  {
   "cell_type": "code",
   "execution_count": 14,
   "metadata": {},
   "outputs": [
    {
     "name": "stdout",
     "output_type": "stream",
     "text": [
      "168\n"
     ]
    }
   ],
   "source": [
    "summer(12,67,89)"
   ]
  },
  {
   "cell_type": "code",
   "execution_count": 15,
   "metadata": {},
   "outputs": [
    {
     "name": "stdout",
     "output_type": "stream",
     "text": [
      "14\n"
     ]
    }
   ],
   "source": [
    "summer(5,9)"
   ]
  },
  {
   "cell_type": "code",
   "execution_count": 16,
   "metadata": {},
   "outputs": [
    {
     "name": "stdout",
     "output_type": "stream",
     "text": [
      "885\n"
     ]
    }
   ],
   "source": [
    "summer(9,777,99)"
   ]
  },
  {
   "cell_type": "code",
   "execution_count": 19,
   "metadata": {},
   "outputs": [],
   "source": [
    "def area_circle(radius=1):\n",
    "\n",
    "    area=22/7 * radius**2\n",
    "    print(area)\n",
    "\n"
   ]
  },
  {
   "cell_type": "code",
   "execution_count": 20,
   "metadata": {},
   "outputs": [
    {
     "name": "stdout",
     "output_type": "stream",
     "text": [
      "314.2857142857143\n"
     ]
    }
   ],
   "source": [
    "area_circle(10)"
   ]
  },
  {
   "cell_type": "code",
   "execution_count": 23,
   "metadata": {},
   "outputs": [
    {
     "name": "stdout",
     "output_type": "stream",
     "text": [
      "707.1428571428571\n"
     ]
    }
   ],
   "source": [
    "area_circle(15)"
   ]
  },
  {
   "cell_type": "markdown",
   "metadata": {},
   "source": [
    "keyword arguments(named parameters)"
   ]
  },
  {
   "cell_type": "code",
   "execution_count": 22,
   "metadata": {},
   "outputs": [
    {
     "name": "stdout",
     "output_type": "stream",
     "text": [
      "13\n",
      "13\n",
      "32\n",
      "89\n",
      "12\n",
      "28\n",
      "314.2857142857143\n"
     ]
    }
   ],
   "source": [
    "summer(1,2,4,6)\n",
    "summer(a=1,b=2,c=4,d=6)\n",
    "summer(1,2,c=10,d=19)\n",
    "summer(1,2,d=30,c=56)\n",
    "summer(d=6,c=3,a=1,b=2)\n",
    "summer(12,12,d=4)\n",
    "area_circle(radius=10)"
   ]
  },
  {
   "cell_type": "markdown",
   "metadata": {},
   "source": [
    "variable arguments"
   ]
  },
  {
   "cell_type": "code",
   "execution_count": 34,
   "metadata": {},
   "outputs": [],
   "source": [
    "def mean(*data:int):\n",
    "   ans=sum(data)/len(data)\n",
    "   print(f'average:{ans}')"
   ]
  },
  {
   "cell_type": "code",
   "execution_count": 35,
   "metadata": {},
   "outputs": [
    {
     "name": "stdout",
     "output_type": "stream",
     "text": [
      "average:3.75\n"
     ]
    }
   ],
   "source": [
    "mean(1,2,5,7)"
   ]
  },
  {
   "cell_type": "code",
   "execution_count": 36,
   "metadata": {},
   "outputs": [
    {
     "name": "stdout",
     "output_type": "stream",
     "text": [
      "average:5.714285714285714\n"
     ]
    }
   ],
   "source": [
    "mean(1,2,5,6,8,9,9)"
   ]
  },
  {
   "cell_type": "code",
   "execution_count": null,
   "metadata": {},
   "outputs": [],
   "source": []
  }
 ],
 "metadata": {
  "kernelspec": {
   "display_name": "base",
   "language": "python",
   "name": "python3"
  },
  "language_info": {
   "codemirror_mode": {
    "name": "ipython",
    "version": 3
   },
   "file_extension": ".py",
   "mimetype": "text/x-python",
   "name": "python",
   "nbconvert_exporter": "python",
   "pygments_lexer": "ipython3",
   "version": "3.11.4"
  },
  "orig_nbformat": 4
 },
 "nbformat": 4,
 "nbformat_minor": 2
}
